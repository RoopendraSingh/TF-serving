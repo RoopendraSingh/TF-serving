{
 "cells": [
  {
   "cell_type": "code",
   "execution_count": 25,
   "id": "70fba22c",
   "metadata": {},
   "outputs": [],
   "source": [
    "# importing packages\n",
    "from tensorflow.keras.preprocessing.image import load_img\n",
    "from tensorflow.keras.preprocessing import image\n",
    "from tensorflow.keras.preprocessing.image import img_to_array\n",
    "from tensorflow.keras.applications.resnet50 import preprocess_input\n",
    "from tensorflow.keras.applications.vgg16 import decode_predictions\n",
    "from tensorflow.keras.models import Model\n",
    "from pickle import dump\n",
    "import glob\n",
    "import os\n",
    "from pathlib import Path\n",
    "from numpy import asarray\n",
    "from numpy import savez_compressed\n",
    "from tensorflow.keras.applications.resnet50 import ResNet50\n",
    "import tensorflow as tf\n",
    "import json\n",
    "import numpy as np"
   ]
  },
  {
   "cell_type": "code",
   "execution_count": 26,
   "id": "645ef723",
   "metadata": {},
   "outputs": [],
   "source": [
    "from tensorflow.keras.applications.resnet50 import decode_predictions"
   ]
  },
  {
   "cell_type": "code",
   "execution_count": 27,
   "id": "8c261ae9",
   "metadata": {},
   "outputs": [],
   "source": [
    "def imagepath_to_tfserving_payload(img_path):\n",
    "    import numpy as np\n",
    "    img = image.img_to_array(image.load_img(img_path, target_size=(224, 224)))\n",
    "    X = np.expand_dims(img, axis=0).astype('float32')\n",
    "    X = preprocess_input(X)\n",
    "    payload = dict(instances=X.tolist())\n",
    "    payload = json.dumps(payload)\n",
    "    return payload\n"
   ]
  },
  {
   "cell_type": "code",
   "execution_count": 28,
   "id": "03a227fd",
   "metadata": {},
   "outputs": [],
   "source": [
    "def tfserving_predict(image_payload, url=None):\n",
    "    import requests\n",
    "    if url is None:\n",
    "        url = 'http://localhost:8501/v1/models/embeddings:predict'\n",
    "    r = requests.post(url, data=image_payload)\n",
    "    pred_json = json.loads(r.content.decode('utf-8'))\n",
    "#     predictions = decode_predictions(np.asarray(pred_json['predictions']), top=3)[0]\n",
    "    return pred_json['predictions'][0]"
   ]
  },
  {
   "cell_type": "code",
   "execution_count": 29,
   "id": "ac8feead",
   "metadata": {},
   "outputs": [],
   "source": [
    "pl = imagepath_to_tfserving_payload(\"user001.jpg\")"
   ]
  },
  {
   "cell_type": "code",
   "execution_count": 31,
   "id": "89fab27d",
   "metadata": {},
   "outputs": [],
   "source": [
    "emb = tfserving_predict(pl, url=None)"
   ]
  }
 ],
 "metadata": {
  "environment": {
   "name": "tf2-gpu.2-6.m78",
   "type": "gcloud",
   "uri": "gcr.io/deeplearning-platform-release/tf2-gpu.2-6:m78"
  },
  "kernelspec": {
   "display_name": "Python 3",
   "language": "python",
   "name": "python3"
  },
  "language_info": {
   "codemirror_mode": {
    "name": "ipython",
    "version": 3
   },
   "file_extension": ".py",
   "mimetype": "text/x-python",
   "name": "python",
   "nbconvert_exporter": "python",
   "pygments_lexer": "ipython3",
   "version": "3.7.10"
  }
 },
 "nbformat": 4,
 "nbformat_minor": 5
}
